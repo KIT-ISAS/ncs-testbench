{
 "cells": [
  {
   "cell_type": "code",
   "execution_count": 1,
   "metadata": {},
   "outputs": [],
   "source": [
    "import gc\n",
    "\n",
    "import re\n",
    "\n",
    "import pandas as pd\n",
    "#import modin.pandas as pd\n",
    "\n",
    "import numpy as np\n",
    "import matplotlib.pyplot as plt\n",
    "import matplotlib.ticker as ticker\n",
    "%matplotlib inline\n",
    "from cycler import cycler\n",
    "\n",
    "import multiprocessing as mp\n",
    "\n",
    "from pint import UnitRegistry\n",
    "ureg = UnitRegistry()\n",
    "Q_ = ureg.Quantity\n",
    "#unit_parser = np.vectorize(lambda x : Q_(x).to_base_units().magnitude)"
   ]
  },
  {
   "cell_type": "code",
   "execution_count": 2,
   "metadata": {},
   "outputs": [],
   "source": [
    "cm = 1/2.54  # centimeters in inches\n",
    "\n",
    "plt.rcParams['figure.figsize'] = [30.0, 16.0]\n",
    "plt.rcParams['figure.dpi'] = 144\n",
    "\n",
    "plt.rcParams.update({\n",
    "    \"pgf.texsystem\": \"pdflatex\",\n",
    "    'font.family': 'serif',\n",
    "    'text.usetex': True,\n",
    "    'pgf.rcfonts': False,\n",
    "})\n",
    "\n",
    "plt.style.use('seaborn-colorblind')\n",
    "#plt.style.use('tableau-colorblind10')\n",
    "\n",
    "colormap = ['#4477AA', '#EE6677', '#228833', '#CCBB44', '#66CCEE', '#AA3377', '#BBBBBB']\n",
    "cycler_keys = plt.rcParams['axes.prop_cycle'].by_key()\n",
    "cycler_keys['color'] = colormap\n",
    "plt.rcParams['axes.prop_cycle'] = cycler(**cycler_keys)\n",
    "\n",
    "plot_prefix = '../plots/'"
   ]
  },
  {
   "cell_type": "code",
   "execution_count": 3,
   "metadata": {},
   "outputs": [],
   "source": [
    "def rfunc(x):\n",
    "    return (10.71 * x - 20.83) / (x - 1.044)\n",
    "\n",
    "def rfunc_norm(x):\n",
    "    return rfunc(x )/ rfunc(1)\n",
    "\n",
    "def toMbps(x):\n",
    "    return x * (1400 + 55) * 8 / 10**6"
   ]
  },
  {
   "cell_type": "code",
   "execution_count": 4,
   "metadata": {},
   "outputs": [
    {
     "data": {
      "image/png": "[encoded data removed]",
      "text/plain": [
       "<Figure size 510.236x311.811 with 1 Axes>"
      ]
     },
     "metadata": {
      "needs_background": "light"
     },
     "output_type": "display_data"
    }
   ],
   "source": [
    "\n",
    "x = np.arange(0, 1, 0.01)\n",
    "y = toMbps(100 * rfunc_norm(x))\n",
    "\n",
    "data = pd.DataFrame(data=y, index=x, columns=[\"Controller\"])\n",
    "\n",
    "#display(data)\n",
    "\n",
    "#fig, ax = plt.subplots(figsize=(8.5*cm,4.5*cm))\n",
    "fig, ax = plt.subplots(figsize=(9.0*cm,5.5*cm))\n",
    "\n",
    "ax.plot(data.index.values, data.values, label=data.columns.values[0])\n",
    "\n",
    "handles, labels = ax.get_legend_handles_labels()\n",
    "#labels, handles = zip(*sorted(zip(labels, handles), key=lambda t: float(t[0]), reverse=True))\n",
    "#labels = np.vectorize(lambda x: '{0.magnitude:6.2f}{0.units:~}'.format((Q_(x) * ureg.second).to_compact()))(labels)\n",
    "\n",
    "#legend = plot.legend(handles, labels, loc='center left', bbox_to_anchor= (1.01, 0.5))\n",
    "#legend = ax.legend(handles, labels, loc='center left', bbox_to_anchor= (1.01, 0.5))\n",
    "legend = ax.legend(handles, labels)\n",
    "#align_legend_labels(legend, ncol)\n",
    "\n",
    "ax.set_xlabel('Quality of Control')\n",
    "ax.set_ylabel('Sending Rate (Mbps)')\n",
    "\n",
    "plt.savefig(plot_prefix + 'rfunc.pdf', bbox_inches='tight')\n",
    "plt.show()"
   ]
  },
  {
   "cell_type": "code",
   "execution_count": null,
   "metadata": {},
   "outputs": [],
   "source": []
  }
 ],
 "metadata": {
  "kernelspec": {
   "display_name": "Python 3",
   "language": "python",
   "name": "python3"
  },
  "language_info": {
   "codemirror_mode": {
    "name": "ipython",
    "version": 3
   },
   "file_extension": ".py",
   "mimetype": "text/x-python",
   "name": "python",
   "nbconvert_exporter": "python",
   "pygments_lexer": "ipython3",
   "version": "3.6.9"
  }
 },
 "nbformat": 4,
 "nbformat_minor": 2
}
